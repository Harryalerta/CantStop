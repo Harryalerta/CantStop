{
 "cells": [
  {
   "cell_type": "code",
   "execution_count": 76,
   "id": "91778dde",
   "metadata": {},
   "outputs": [],
   "source": [
    "import random"
   ]
  },
  {
   "cell_type": "code",
   "execution_count": 236,
   "id": "1a0066a0",
   "metadata": {},
   "outputs": [],
   "source": [
    "class Column():\n",
    "    def __init__(self,length):\n",
    "        self.length=length\n",
    "        self.position={1:0,2:0}\n",
    "        self.marker=0\n",
    "        self.blocked=False\n",
    "    def advance_marker(self):\n",
    "        self.marker+=1\n",
    "    def record_advance(self,active_player):\n",
    "        self.position[active_player] = self.marker\n",
    "        self.marker_reset()\n",
    "    def marker_reset(self):\n",
    "        self.marker = 0\n",
    "    def maker_start(self,active_player):\n",
    "        self.marker = self.position[active_player] + 1"
   ]
  },
  {
   "cell_type": "code",
   "execution_count": 237,
   "id": "1b81dc7e",
   "metadata": {},
   "outputs": [],
   "source": [
    "n_colunas = [2,4,6,8,10,12,10,8,6,4,2]\n",
    "class Board():\n",
    "    def __init__(self):\n",
    "        self.columns={}\n",
    "        for i in range(11):\n",
    "            self.columns[i+2] = Column(n_colunas[i])\n",
    "    @classmethod\n",
    "    def roll_dice(self):\n",
    "        return[random.randrange(1, 7),random.randrange(1, 7),random.randrange(1, 7),random.randrange(1, 7)]"
   ]
  },
  {
   "cell_type": "code",
   "execution_count": 238,
   "id": "ec09a6c5",
   "metadata": {},
   "outputs": [],
   "source": [
    "board=Board()"
   ]
  },
  {
   "cell_type": "code",
   "execution_count": 239,
   "id": "3a9d8f79",
   "metadata": {},
   "outputs": [
    {
     "data": {
      "text/plain": [
       "[1, 3, 5, 2]"
      ]
     },
     "execution_count": 239,
     "metadata": {},
     "output_type": "execute_result"
    }
   ],
   "source": [
    "board.roll_dice()"
   ]
  },
  {
   "cell_type": "code",
   "execution_count": 240,
   "id": "1bd38322",
   "metadata": {},
   "outputs": [
    {
     "data": {
      "text/plain": [
       "<__main__.Column at 0x1d6f076b250>"
      ]
     },
     "execution_count": 240,
     "metadata": {},
     "output_type": "execute_result"
    }
   ],
   "source": [
    "board.columns[2]"
   ]
  },
  {
   "cell_type": "code",
   "execution_count": 196,
   "id": "0eb15750",
   "metadata": {},
   "outputs": [
    {
     "data": {
      "text/plain": [
       "11"
      ]
     },
     "execution_count": 196,
     "metadata": {},
     "output_type": "execute_result"
    }
   ],
   "source": [
    "len(board.columns)"
   ]
  },
  {
   "cell_type": "code",
   "execution_count": 157,
   "id": "0b015772",
   "metadata": {},
   "outputs": [
    {
     "data": {
      "text/plain": [
       "2"
      ]
     },
     "execution_count": 157,
     "metadata": {},
     "output_type": "execute_result"
    }
   ],
   "source": [
    "board.columns[2].length"
   ]
  },
  {
   "cell_type": "code",
   "execution_count": 112,
   "id": "39fd8dd6",
   "metadata": {},
   "outputs": [
    {
     "data": {
      "text/plain": [
       "(6, 2, 2, 4)"
      ]
     },
     "execution_count": 112,
     "metadata": {},
     "output_type": "execute_result"
    }
   ],
   "source": [
    "roll = (random.randrange(1, 7),random.randrange(1, 7),random.randrange(1, 7),random.randrange(1, 7))\n",
    "roll"
   ]
  }
 ],
 "metadata": {
  "kernelspec": {
   "display_name": "Python 3 (ipykernel)",
   "language": "python",
   "name": "python3"
  },
  "language_info": {
   "codemirror_mode": {
    "name": "ipython",
    "version": 3
   },
   "file_extension": ".py",
   "mimetype": "text/x-python",
   "name": "python",
   "nbconvert_exporter": "python",
   "pygments_lexer": "ipython3",
   "version": "3.9.7"
  }
 },
 "nbformat": 4,
 "nbformat_minor": 5
}
