{
 "cells": [
  {
   "cell_type": "code",
   "execution_count": 12,
   "metadata": {},
   "outputs": [],
   "source": [
    "import random"
   ]
  },
  {
   "cell_type": "code",
   "execution_count": 17,
   "metadata": {},
   "outputs": [],
   "source": [
    "def combinacoes_de_dados(lista):\n",
    "    combinacoes = set()\n",
    "\n",
    "    combinacoes.add((lista[0] + lista[1],lista[2] + lista[3]))\n",
    "    combinacoes.add((lista[0] + lista[2],lista[1] + lista[3]))\n",
    "    combinacoes.add((lista[0] + lista[3],lista[1] + lista[2]))\n",
    "\n",
    "    return list(combinacoes)\n"
   ]
  },
  {
   "cell_type": "code",
   "execution_count": null,
   "metadata": {},
   "outputs": [],
   "source": [
    "for i in range(1,7):\n",
    "   for j in range(1,7):\n",
    "        print ([i,j,2,1])\n",
    "        print(combinacoes_de_dados([i,j,2,1]))"
   ]
  },
  {
   "cell_type": "code",
   "execution_count": 37,
   "id": "1b81dc7e",
   "metadata": {},
   "outputs": [],
   "source": [
    "class Column():\n",
    "    def __init__(self,length):\n",
    "        self.length=length\n",
    "        self.position={1:0,2:0}\n",
    "        self.marker=0\n",
    "        self.blocked=False\n",
    "\n",
    "    def advance_marker(self):\n",
    "        self.marker+=1\n",
    "\n",
    "    def record_advance(self,active_player):\n",
    "        self.position[active_player] = self.marker\n",
    "        self.marker_reset()\n",
    "\n",
    "    def marker_reset(self):\n",
    "        self.marker = 0\n",
    "\n",
    "    def maker_start(self,active_player):\n",
    "        self.marker = self.position[active_player] + 1\n",
    "\n",
    "    def possui_marcador(self):\n",
    "        return self.marker > 0\n",
    "\n",
    "n_colunas = [2,4,6,8,10,12,10,8,6,4,2]\n",
    "class Board():\n",
    "    def __init__(self):\n",
    "        self.columns={}\n",
    "        for i in range(11):\n",
    "            self.columns[i+2] = Column(n_colunas[i])\n",
    "    \n",
    "    def roll_dice(self):\n",
    "        return combinacoes_de_dados([random.randrange(1, 7),random.randrange(1, 7),random.randrange(1, 7),random.randrange(1, 7)])\n",
    "\n",
    "    def lista_colunas_com_marcadores(self):\n",
    "        return filter(lambda coluna : (columns[coluna].possui_marcador()), self.columns)"
   ]
  },
  {
   "cell_type": "code",
   "execution_count": 38,
   "metadata": {},
   "outputs": [
    {
     "name": "stdout",
     "output_type": "stream",
     "text": [
      "[(7, 4), (3, 8), (5, 6)]\n",
      "1\n",
      "True\n"
     ]
    },
    {
     "ename": "AttributeError",
     "evalue": "'int' object has no attribute 'possui_marcador'",
     "output_type": "error",
     "traceback": [
      "\u001b[1;31m---------------------------------------------------------------------------\u001b[0m",
      "\u001b[1;31mAttributeError\u001b[0m                            Traceback (most recent call last)",
      "\u001b[1;32mc:\\Users\\Gustavo\\CantStop\\DontStop\\ferramentasDeCombinacao.ipynb Cell 5'\u001b[0m in \u001b[0;36m<cell line: 9>\u001b[1;34m()\u001b[0m\n\u001b[0;32m      <a href='vscode-notebook-cell:/c%3A/Users/Gustavo/CantStop/DontStop/ferramentasDeCombinacao.ipynb#ch0000008?line=5'>6</a>\u001b[0m \u001b[39mprint\u001b[39m(board\u001b[39m.\u001b[39mcolumns[\u001b[39m2\u001b[39m]\u001b[39m.\u001b[39mmarker)\n\u001b[0;32m      <a href='vscode-notebook-cell:/c%3A/Users/Gustavo/CantStop/DontStop/ferramentasDeCombinacao.ipynb#ch0000008?line=6'>7</a>\u001b[0m \u001b[39mprint\u001b[39m(board\u001b[39m.\u001b[39mcolumns[\u001b[39m2\u001b[39m]\u001b[39m.\u001b[39mpossui_marcador())\n\u001b[1;32m----> <a href='vscode-notebook-cell:/c%3A/Users/Gustavo/CantStop/DontStop/ferramentasDeCombinacao.ipynb#ch0000008?line=8'>9</a>\u001b[0m \u001b[39mfor\u001b[39;00m Column \u001b[39min\u001b[39;00m board\u001b[39m.\u001b[39mlista_colunas_com_marcadores():\n\u001b[0;32m     <a href='vscode-notebook-cell:/c%3A/Users/Gustavo/CantStop/DontStop/ferramentasDeCombinacao.ipynb#ch0000008?line=9'>10</a>\u001b[0m     \u001b[39mprint\u001b[39m(Column)\n",
      "\u001b[1;32mc:\\Users\\Gustavo\\CantStop\\DontStop\\ferramentasDeCombinacao.ipynb Cell 4'\u001b[0m in \u001b[0;36mBoard.lista_colunas_com_marcadores.<locals>.<lambda>\u001b[1;34m(coluna)\u001b[0m\n\u001b[0;32m     <a href='vscode-notebook-cell:/c%3A/Users/Gustavo/CantStop/DontStop/ferramentasDeCombinacao.ipynb#ch0000003?line=33'>34</a>\u001b[0m \u001b[39mdef\u001b[39;00m \u001b[39mlista_colunas_com_marcadores\u001b[39m(\u001b[39mself\u001b[39m):\n\u001b[1;32m---> <a href='vscode-notebook-cell:/c%3A/Users/Gustavo/CantStop/DontStop/ferramentasDeCombinacao.ipynb#ch0000003?line=34'>35</a>\u001b[0m     \u001b[39mreturn\u001b[39;00m \u001b[39mfilter\u001b[39m(\u001b[39mlambda\u001b[39;00m coluna : (coluna\u001b[39m.\u001b[39;49mpossui_marcador()), \u001b[39mself\u001b[39m\u001b[39m.\u001b[39mcolumns)\n",
      "\u001b[1;31mAttributeError\u001b[0m: 'int' object has no attribute 'possui_marcador'"
     ]
    }
   ],
   "source": [
    "board = Board()\n",
    "\n",
    "print (board.roll_dice())\n",
    "\n",
    "board.columns[2].advance_marker()\n",
    "print(board.columns[2].marker)\n",
    "print(board.columns[2].possui_marcador())\n",
    "\n",
    "for Column in board.lista_colunas_com_marcadores():\n",
    "    print(Column)"
   ]
  }
 ],
 "metadata": {
  "interpreter": {
   "hash": "7e454ac98e5d6f7ce144995d5872cb16b4a2febf903ce63ddae47d35667d42fd"
  },
  "kernelspec": {
   "display_name": "Python 3 (ipykernel)",
   "language": "python",
   "name": "python3"
  },
  "language_info": {
   "codemirror_mode": {
    "name": "ipython",
    "version": 3
   },
   "file_extension": ".py",
   "mimetype": "text/x-python",
   "name": "python",
   "nbconvert_exporter": "python",
   "pygments_lexer": "ipython3",
   "version": "3.9.7"
  }
 },
 "nbformat": 4,
 "nbformat_minor": 2
}
