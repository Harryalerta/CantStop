{
 "cells": [
  {
   "cell_type": "code",
   "execution_count": 1,
   "id": "91778dde",
   "metadata": {},
   "outputs": [],
   "source": [
    "import random\n",
    "import time\n",
    "from IPython.display import clear_output"
   ]
  },
  {
   "cell_type": "code",
   "execution_count": 2,
   "id": "69cd2c86",
   "metadata": {},
   "outputs": [],
   "source": [
    "def combinacoes_de_dados(lista):\n",
    "    combinacoes = set()\n",
    "\n",
    "    combinacoes.add((lista[0] + lista[1],lista[2] + lista[3]))\n",
    "    combinacoes.add((lista[0] + lista[2],lista[1] + lista[3]))\n",
    "    combinacoes.add((lista[0] + lista[3],lista[1] + lista[2]))\n",
    "\n",
    "    return list(combinacoes)\n"
   ]
  },
  {
   "cell_type": "code",
   "execution_count": 3,
   "id": "1a0066a0",
   "metadata": {},
   "outputs": [],
   "source": [
    "class Column():\n",
    "    def __init__(self,length):\n",
    "        self.length=length\n",
    "        self.position={1:0,2:0}\n",
    "        self.marker=0\n",
    "        self.blocked=False\n",
    "\n",
    "    def advance_marker(self):\n",
    "        self.marker+=1\n",
    "\n",
    "    def record_advance(self,active_player):\n",
    "        self.position[active_player] = self.marker\n",
    "        self.marker_reset()\n",
    "\n",
    "    def marker_reset(self):\n",
    "        self.marker = 0\n",
    "\n",
    "    def marker_start(self,active_player):\n",
    "        self.marker = self.position[active_player] + 1\n",
    "\n",
    "    def possui_marcador(self):\n",
    "        return self.marker > 0\n",
    "    \n",
    "    def block_column(self):\n",
    "        self.blocked=True\n",
    "    \n",
    "    def is_blocked(self):\n",
    "        return self.blocked"
   ]
  },
  {
   "cell_type": "code",
   "execution_count": 4,
   "id": "1b81dc7e",
   "metadata": {},
   "outputs": [],
   "source": [
    "n_colunas = [2,4,6,8,10,12,10,8,6,4,2]\n",
    "class Board():\n",
    "    def __init__(self):\n",
    "        self.columns={}\n",
    "        for i in range(11):\n",
    "            self.columns[i+2] = Column(n_colunas[i])\n",
    "    \n",
    "    def roll_dice(self):\n",
    "        return combinacoes_de_dados([random.randrange(1, 7),random.randrange(1, 7),random.randrange(1, 7),random.randrange(1, 7)])\n",
    "\n",
    "    def lista_colunas_com_marcadores(self):\n",
    "        return list(filter( lambda coluna : self.columns[coluna].possui_marcador(), self.columns))\n",
    "    \n",
    "    def lista_colunas_bloqueadas(self):\n",
    "        return list(filter( lambda coluna : self.columns[coluna].is_blocked(), self.columns))\n",
    "       "
   ]
  },
  {
   "cell_type": "code",
   "execution_count": 5,
   "id": "25948552",
   "metadata": {},
   "outputs": [],
   "source": [
    "class Game_settings():\n",
    "    def __init__(self):\n",
    "        self.marker_count=3\n",
    "    \n",
    "    def set_rules(self):\n",
    "        global marker_count\n",
    "        marker_count=self.marker_count"
   ]
  },
  {
   "cell_type": "code",
   "execution_count": 6,
   "id": "be8b8722",
   "metadata": {},
   "outputs": [],
   "source": [
    "class Player():\n",
    "    def __init__(self,name):\n",
    "        player.name=self.name\n"
   ]
  },
  {
   "cell_type": "code",
   "execution_count": 7,
   "id": "c2222d1e",
   "metadata": {},
   "outputs": [],
   "source": [
    "game_settings=Game_settings()\n",
    "game_settings.set_rules()"
   ]
  },
  {
   "cell_type": "code",
   "execution_count": 8,
   "id": "7f2af94d",
   "metadata": {},
   "outputs": [],
   "source": [
    "def run_game():\n",
    "    #initialize the classes\n",
    "    board=Board()\n",
    "    active_player=1\n",
    "    points=[]\n",
    "    #choose your move\n",
    "    def make_move(your_choice):\n",
    "        '''execute the chosen move'''\n",
    "        #make your move\n",
    "        made_move=False\n",
    "        while(your_choice!=[]):\n",
    "            for i in range (2,13):\n",
    "                if your_choice==[]:\n",
    "                    break\n",
    "                elif ((your_choice[0] not in board.lista_colunas_com_marcadores()) \n",
    "                      and len(board.lista_colunas_com_marcadores())<marker_count\n",
    "                      and your_choice[0] not in board.lista_colunas_bloqueadas()): #se tem marcardor disponível, bota marcador\n",
    "\n",
    "                    board.columns[your_choice[0]].marker_start(active_player)\n",
    "                    print(f'placed marker at column: {your_choice[0]}')\n",
    "                    print(your_choice[0], board.columns[your_choice[0]].marker)\n",
    "                    your_choice.remove(your_choice[0])\n",
    "                    made_move=True\n",
    "\n",
    "                elif your_choice[0] in board.lista_colunas_com_marcadores(): #se tem marcador posicionado, avança marcador\n",
    "\n",
    "                    board.columns[your_choice[0]].advance_marker()\n",
    "                    print(f'advanced marker at column: {your_choice[0]}')\n",
    "                    print(your_choice[0], board.columns[your_choice[0]].marker)\n",
    "                    your_choice.remove(your_choice[0])\n",
    "                    made_move=True\n",
    "                \n",
    "                else:\n",
    "                    print('')\n",
    "                    print('')\n",
    "                    your_choice.remove(your_choice[0])\n",
    "                    \n",
    "        if made_move==False:\n",
    "            for i in range(2,13):\n",
    "                board.columns[i].marker_reset()\n",
    "                print('no possible moves, markers were reset')\n",
    "                return (False)\n",
    "        return True\n",
    "                    \n",
    "    def pass_turn(active_player):\n",
    "        '''voluntarily end your turn'''\n",
    "        for i in range (2,13):\n",
    "            if i in board.lista_colunas_com_marcadores():\n",
    "                board.columns[i].record_advance(active_player)\n",
    "                if board.columns[i].position[active_player]>=board.columns[i].length:\n",
    "                    board.columns[i].block_column()\n",
    "                    points.append(active_player)\n",
    "\n",
    "            \n",
    "    for i in range(500):\n",
    "        \n",
    "        time.sleep(0.1)\n",
    "        clear_output(wait=True)\n",
    "        your_dice=board.roll_dice()\n",
    "        your_choice=list(your_dice[random.randrange(0,len(your_dice))])\n",
    "        print(f'player {active_player} has chosen: {your_choice}')\n",
    "        if make_move(your_choice):\n",
    "            if active_player==1:\n",
    "                active_player=2\n",
    "            else:\n",
    "                active_player=1            \n",
    "        if len(board.lista_colunas_com_marcadores())>=3:\n",
    "            pass_turn(active_player)\n",
    "            if active_player==1:\n",
    "                active_player=2\n",
    "            else:\n",
    "                active_player=1\n",
    "        print(f'Game Board: \\nColumns with markers: {board.lista_colunas_com_marcadores()}')\n",
    "        print(f'Blocked columns: {board.lista_colunas_bloqueadas()}')\n",
    "        print(f'Points:: {points}')\n",
    "        for i in range (2,13):\n",
    "            print(f'column {i}: {board.columns[i].position}')\n",
    "        if len(points)>=5:\n",
    "            break"
   ]
  },
  {
   "cell_type": "code",
   "execution_count": 9,
   "id": "b994b9e4",
   "metadata": {
    "scrolled": true
   },
   "outputs": [
    {
     "name": "stdout",
     "output_type": "stream",
     "text": [
      "player 1 has chosen: [5, 5]\n",
      "placed marker at column: 5\n",
      "5 7\n",
      "advanced marker at column: 5\n",
      "5 8\n",
      "Game Board: \n",
      "Columns with markers: []\n",
      "Blocked columns: [2, 4, 5, 6, 10]\n",
      "Points:: [2, 2, 2, 2, 2]\n",
      "column 2: {1: 1, 2: 2}\n",
      "column 3: {1: 3, 2: 3}\n",
      "column 4: {1: 3, 2: 6}\n",
      "column 5: {1: 6, 2: 8}\n",
      "column 6: {1: 7, 2: 10}\n",
      "column 7: {1: 5, 2: 3}\n",
      "column 8: {1: 7, 2: 7}\n",
      "column 9: {1: 3, 2: 4}\n",
      "column 10: {1: 4, 2: 6}\n",
      "column 11: {1: 2, 2: 2}\n",
      "column 12: {1: 1, 2: 0}\n"
     ]
    }
   ],
   "source": [
    "run_game()"
   ]
  }
 ],
 "metadata": {
  "interpreter": {
   "hash": "7e454ac98e5d6f7ce144995d5872cb16b4a2febf903ce63ddae47d35667d42fd"
  },
  "kernelspec": {
   "display_name": "Python 3 (ipykernel)",
   "language": "python",
   "name": "python3"
  },
  "language_info": {
   "codemirror_mode": {
    "name": "ipython",
    "version": 3
   },
   "file_extension": ".py",
   "mimetype": "text/x-python",
   "name": "python",
   "nbconvert_exporter": "python",
   "pygments_lexer": "ipython3",
   "version": "3.9.7"
  }
 },
 "nbformat": 4,
 "nbformat_minor": 5
}
