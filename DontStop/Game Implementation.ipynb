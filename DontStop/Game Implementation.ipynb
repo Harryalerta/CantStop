{
 "cells": [
  {
   "cell_type": "code",
   "execution_count": 1,
   "id": "91778dde",
   "metadata": {},
   "outputs": [],
   "source": [
    "import random"
   ]
  },
  {
   "cell_type": "code",
   "execution_count": null,
   "id": "69cd2c86",
   "metadata": {},
   "outputs": [],
   "source": [
    "def combinacoes_de_dados(lista):\n",
    "    combinacoes = set()\n",
    "\n",
    "    combinacoes.add((lista[0] + lista[1],lista[2] + lista[3]))\n",
    "    combinacoes.add((lista[0] + lista[2],lista[1] + lista[3]))\n",
    "    combinacoes.add((lista[0] + lista[3],lista[1] + lista[2]))\n",
    "\n",
    "    return list(combinacoes)\n"
   ]
  },
  {
   "cell_type": "code",
   "execution_count": 2,
   "id": "1a0066a0",
   "metadata": {},
   "outputs": [],
   "source": [
    "class Column():\n",
    "    def __init__(self,length):\n",
    "        self.length=length\n",
    "        self.position={1:0,2:0}\n",
    "        self.marker=0\n",
    "        self.blocked=False\n",
    "\n",
    "    def advance_marker(self):\n",
    "        self.marker+=1\n",
    "\n",
    "    def record_advance(self,active_player):\n",
    "        self.position[active_player] = self.marker\n",
    "        self.marker_reset()\n",
    "\n",
    "    def marker_reset(self):\n",
    "        self.marker = 0\n",
    "\n",
    "    def maker_start(self,active_player):\n",
    "        self.marker = self.position[active_player] + 1\n",
    "\n",
    "    def possui_marcador(self):\n",
    "        return self.marker > 0"
   ]
  },
  {
   "cell_type": "code",
   "execution_count": 3,
   "id": "1b81dc7e",
   "metadata": {},
   "outputs": [],
   "source": [
    "n_colunas = [2,4,6,8,10,12,10,8,6,4,2]\n",
    "class Board():\n",
    "    def __init__(self):\n",
    "        self.columns={}\n",
    "        for i in range(11):\n",
    "            self.columns[i+2] = Column(n_colunas[i])\n",
    "    \n",
    "    def roll_dice(self):\n",
    "        return combinacoes_de_dados([random.randrange(1, 7),random.randrange(1, 7),random.randrange(1, 7),random.randrange(1, 7)])\n",
    "\n",
    "    def lista_colunas_com_marcadores(self):\n",
    "        return list(filter( lambda coluna : self.columns[coluna].possui_marcador(), self.columns))"
   ]
  },
  {
   "cell_type": "code",
   "execution_count": 4,
   "id": "ec09a6c5",
   "metadata": {},
   "outputs": [],
   "source": [
    "board=Board()"
   ]
  },
  {
   "cell_type": "code",
   "execution_count": 5,
   "id": "3a9d8f79",
   "metadata": {},
   "outputs": [
    {
     "data": {
      "text/plain": [
       "[5, 2, 4, 1]"
      ]
     },
     "execution_count": 5,
     "metadata": {},
     "output_type": "execute_result"
    }
   ],
   "source": [
    "board.roll_dice()"
   ]
  },
  {
   "cell_type": "code",
   "execution_count": 6,
   "id": "1bd38322",
   "metadata": {},
   "outputs": [
    {
     "data": {
      "text/plain": [
       "<__main__.Column at 0x228125ceda0>"
      ]
     },
     "execution_count": 6,
     "metadata": {},
     "output_type": "execute_result"
    }
   ],
   "source": [
    "board.columns[2]"
   ]
  },
  {
   "cell_type": "code",
   "execution_count": 7,
   "id": "0eb15750",
   "metadata": {},
   "outputs": [
    {
     "data": {
      "text/plain": [
       "11"
      ]
     },
     "execution_count": 7,
     "metadata": {},
     "output_type": "execute_result"
    }
   ],
   "source": [
    "len(board.columns)"
   ]
  },
  {
   "cell_type": "code",
   "execution_count": 8,
   "id": "0b015772",
   "metadata": {},
   "outputs": [
    {
     "data": {
      "text/plain": [
       "2"
      ]
     },
     "execution_count": 8,
     "metadata": {},
     "output_type": "execute_result"
    }
   ],
   "source": [
    "board.columns[2].length"
   ]
  },
  {
   "cell_type": "code",
   "execution_count": 9,
   "id": "39fd8dd6",
   "metadata": {},
   "outputs": [
    {
     "data": {
      "text/plain": [
       "(1, 1, 6, 2)"
      ]
     },
     "execution_count": 9,
     "metadata": {},
     "output_type": "execute_result"
    }
   ],
   "source": [
    "roll = (random.randrange(1, 7),random.randrange(1, 7),random.randrange(1, 7),random.randrange(1, 7))\n",
    "roll"
   ]
  }
 ],
 "metadata": {
  "interpreter": {
   "hash": "7e454ac98e5d6f7ce144995d5872cb16b4a2febf903ce63ddae47d35667d42fd"
  },
  "kernelspec": {
   "display_name": "Python 3.10.4 64-bit",
   "language": "python",
   "name": "python3"
  },
  "language_info": {
   "codemirror_mode": {
    "name": "ipython",
    "version": 3
   },
   "file_extension": ".py",
   "mimetype": "text/x-python",
   "name": "python",
   "nbconvert_exporter": "python",
   "pygments_lexer": "ipython3",
   "version": "3.10.4"
  }
 },
 "nbformat": 4,
 "nbformat_minor": 5
}
