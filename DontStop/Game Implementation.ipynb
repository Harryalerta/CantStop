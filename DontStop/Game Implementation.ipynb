{
 "cells": [
  {
   "cell_type": "code",
   "execution_count": 1,
   "id": "91778dde",
   "metadata": {},
   "outputs": [],
   "source": [
    "import random\n",
    "import time\n",
    "from IPython.display import clear_output"
   ]
  },
  {
   "cell_type": "code",
   "execution_count": 2,
   "id": "69cd2c86",
   "metadata": {},
   "outputs": [],
   "source": [
    "def combinacoes_de_dados(lista):\n",
    "    combinacoes = set()\n",
    "\n",
    "    combinacoes.add((lista[0] + lista[1],lista[2] + lista[3]))\n",
    "    combinacoes.add((lista[0] + lista[2],lista[1] + lista[3]))\n",
    "    combinacoes.add((lista[0] + lista[3],lista[1] + lista[2]))\n",
    "\n",
    "    return list(combinacoes)\n"
   ]
  },
  {
   "cell_type": "code",
   "execution_count": 3,
   "id": "1a0066a0",
   "metadata": {},
   "outputs": [],
   "source": [
    "class Column():\n",
    "    def __init__(self,length):\n",
    "        self.length=length\n",
    "        self.position={1:0,2:0}\n",
    "        self.marker=0\n",
    "        self.blocked=False\n",
    "\n",
    "    def advance_marker(self):\n",
    "        self.marker+=1\n",
    "\n",
    "    def record_advance(self,active_player):\n",
    "        self.position[active_player] = self.marker\n",
    "        self.marker_reset()\n",
    "\n",
    "    def marker_reset(self):\n",
    "        self.marker = 0\n",
    "\n",
    "    def marker_start(self,active_player):\n",
    "        self.marker = self.position[active_player] + 1\n",
    "\n",
    "    def possui_marcador(self):\n",
    "        return self.marker > 0\n",
    "    \n",
    "    def is_blocked(self):\n",
    "        return self.blocked"
   ]
  },
  {
   "cell_type": "code",
   "execution_count": 4,
   "id": "1b81dc7e",
   "metadata": {},
   "outputs": [],
   "source": [
    "n_colunas = [2,4,6,8,10,12,10,8,6,4,2]\n",
    "class Board():\n",
    "    def __init__(self):\n",
    "        self.columns={}\n",
    "        for i in range(11):\n",
    "            self.columns[i+2] = Column(n_colunas[i])\n",
    "    \n",
    "    def roll_dice(self):\n",
    "        return combinacoes_de_dados([random.randrange(1, 7),random.randrange(1, 7),random.randrange(1, 7),random.randrange(1, 7)])\n",
    "\n",
    "    def lista_colunas_com_marcadores(self):\n",
    "        return list(filter( lambda coluna : self.columns[coluna].possui_marcador(), self.columns))\n",
    "    \n",
    "    def lista_colunas_bloqueadas(self):\n",
    "        return list(filter( lambda coluna : self.columns[coluna].is_blocked(), self.columns))\n",
    "       "
   ]
  },
  {
   "cell_type": "code",
   "execution_count": 5,
   "id": "25948552",
   "metadata": {},
   "outputs": [],
   "source": [
    "class Game_settings():\n",
    "    def __init__(self):\n",
    "        self.marker_count=3\n",
    "    \n",
    "    def set_rules(self):\n",
    "        global marker_count\n",
    "        marker_count=self.marker_count"
   ]
  },
  {
   "cell_type": "code",
   "execution_count": 34,
   "id": "15e11250",
   "metadata": {},
   "outputs": [],
   "source": [
    "def run_game():\n",
    "    #initialize the classes\n",
    "    board=Board()\n",
    "    active_player=1\n",
    "    #choose your move\n",
    "    def make_move(your_choice):\n",
    "        '''execute the chosen move'''\n",
    "        #make your move\n",
    "        while(your_choice!=[]):\n",
    "            \n",
    "            for i in range (2,13):\n",
    "                if your_choice==[]:\n",
    "                    break\n",
    "                elif (your_choice[0] not in board.lista_colunas_com_marcadores()) and len(board.lista_colunas_com_marcadores())<marker_count: #se tem marcardor, bota marcador\n",
    "\n",
    "                    board.columns[your_choice[0]].marker_start(active_player)\n",
    "                    print(f'placed marker at column: {your_choice[0]}')\n",
    "                    print(your_choice[0], board.columns[your_choice[0]].position)\n",
    "                    print(your_choice[0], board.columns[your_choice[0]].marker)\n",
    "                    your_choice.remove(your_choice[0])\n",
    "\n",
    "                elif your_choice[0] in board.lista_colunas_com_marcadores(): #se tem marcador, avança marcador\n",
    "\n",
    "                    board.columns[your_choice[0]].advance_marker()\n",
    "                    print(f'advanced marker at column: {your_choice[0]}')\n",
    "                    print(your_choice[0], board.columns[your_choice[0]].position)\n",
    "                    print(your_choice[0], board.columns[your_choice[0]].marker)\n",
    "                    your_choice.remove(your_choice[0])\n",
    "                else:\n",
    "                    for i in range (2,13):\n",
    "                        board.columns[i].record_advance(active_player)\n",
    "                        print(f'marked advance on column {i}')\n",
    "    def pass_turn(active_player):\n",
    "        '''voluntarily end your turn'''\n",
    "        print(f'player: {active_player} records their markers positions and passes their turn')\n",
    "        for i in range (2,13):\n",
    "            if i in board.lista_colunas_com_marcadores():\n",
    "                board.columns[i].record_advance(active_player)\n",
    "\n",
    "            \n",
    "    for i in range(50):\n",
    "        \n",
    "        time.sleep(0.1)\n",
    "        clear_output(wait=True)\n",
    "        your_dice=board.roll_dice()\n",
    "        your_choice=list(your_dice[random.randrange(0,len(your_dice))])\n",
    "        print(your_choice)\n",
    "        make_move(your_choice)\n",
    "        pass_turn(active_player)\n",
    "        if active_player==1:\n",
    "            active_player=2\n",
    "        else:\n",
    "            active_player=1"
   ]
  },
  {
   "cell_type": "code",
   "execution_count": 7,
   "id": "be8b8722",
   "metadata": {},
   "outputs": [],
   "source": [
    "class Player():\n",
    "    def __init__(self,name):\n",
    "        player.name=self.name\n"
   ]
  },
  {
   "cell_type": "code",
   "execution_count": 8,
   "id": "c2222d1e",
   "metadata": {},
   "outputs": [],
   "source": [
    "game_settings=Game_settings()\n",
    "game_settings.set_rules()"
   ]
  },
  {
   "cell_type": "code",
   "execution_count": 40,
   "id": "7f2af94d",
   "metadata": {},
   "outputs": [],
   "source": [
    "def run_game():\n",
    "    #initialize the classes\n",
    "    board=Board()\n",
    "    active_player=1\n",
    "    #choose your move\n",
    "    def make_move(your_choice):\n",
    "        '''execute the chosen move'''\n",
    "        #make your move\n",
    "        while(your_choice!=[]):\n",
    "            \n",
    "            for i in range (2,13):\n",
    "                if your_choice==[]:\n",
    "                    break\n",
    "                elif (your_choice[0] not in board.lista_colunas_com_marcadores()) and len(board.lista_colunas_com_marcadores())<marker_count: #se tem marcardor, bota marcador\n",
    "\n",
    "                    board.columns[your_choice[0]].marker_start(active_player)\n",
    "                    print(f'placed marker at column: {your_choice[0]}')\n",
    "                    print(your_choice[0], board.columns[your_choice[0]].position)\n",
    "                    print(your_choice[0], board.columns[your_choice[0]].marker)\n",
    "                    your_choice.remove(your_choice[0])\n",
    "\n",
    "                elif your_choice[0] in board.lista_colunas_com_marcadores(): #se tem marcador, avança marcador\n",
    "\n",
    "                    board.columns[your_choice[0]].advance_marker()\n",
    "                    print(f'advanced marker at column: {your_choice[0]}')\n",
    "                    print(your_choice[0], board.columns[your_choice[0]].position)\n",
    "                    print(your_choice[0], board.columns[your_choice[0]].marker)\n",
    "                    your_choice.remove(your_choice[0])\n",
    "                else:\n",
    "                    for i in range (2,13):\n",
    "                        board.columns[i].record_advance(active_player)\n",
    "                        print(f'marked advance on column {i}')\n",
    "    def pass_turn(active_player):\n",
    "        '''voluntarily end your turn'''\n",
    "        print(f'player: {active_player} records their markers positions and passes their turn')\n",
    "        for i in range (2,13):\n",
    "            if i in board.lista_colunas_com_marcadores():\n",
    "                board.columns[i].record_advance(active_player)\n",
    "\n",
    "            \n",
    "    for i in range(30):\n",
    "        \n",
    "        time.sleep(0.1)\n",
    "        clear_output(wait=True)\n",
    "        your_dice=board.roll_dice()\n",
    "        your_choice=list(your_dice[random.randrange(0,len(your_dice))])\n",
    "        print(your_choice)\n",
    "        make_move(your_choice)\n",
    "        pass_turn(active_player)\n",
    "        if active_player==1:\n",
    "            active_player=2\n",
    "        else:\n",
    "            active_player=1"
   ]
  },
  {
   "cell_type": "code",
   "execution_count": 38,
   "id": "4b53c19e",
   "metadata": {},
   "outputs": [
    {
     "name": "stdout",
     "output_type": "stream",
     "text": [
      "[5, 6]\n"
     ]
    },
    {
     "ename": "NameError",
     "evalue": "name 'make_move' is not defined",
     "output_type": "error",
     "traceback": [
      "\u001b[1;31m---------------------------------------------------------------------------\u001b[0m",
      "\u001b[1;31mNameError\u001b[0m                                 Traceback (most recent call last)",
      "\u001b[1;32m~\\AppData\\Local\\Temp/ipykernel_17544/3107554909.py\u001b[0m in \u001b[0;36m<module>\u001b[1;34m\u001b[0m\n\u001b[0;32m      1\u001b[0m \u001b[0mgame1\u001b[0m\u001b[1;33m=\u001b[0m\u001b[0mGame_manager\u001b[0m\u001b[1;33m(\u001b[0m\u001b[1;33m)\u001b[0m\u001b[1;33m\u001b[0m\u001b[1;33m\u001b[0m\u001b[0m\n\u001b[1;32m----> 2\u001b[1;33m \u001b[0mgame1\u001b[0m\u001b[1;33m.\u001b[0m\u001b[0mrun_game\u001b[0m\u001b[1;33m(\u001b[0m\u001b[1;33m)\u001b[0m\u001b[1;33m\u001b[0m\u001b[1;33m\u001b[0m\u001b[0m\n\u001b[0m",
      "\u001b[1;32m~\\AppData\\Local\\Temp/ipykernel_17544/4072783282.py\u001b[0m in \u001b[0;36mrun_game\u001b[1;34m(self)\u001b[0m\n\u001b[0;32m     12\u001b[0m             \u001b[0myour_choice\u001b[0m\u001b[1;33m=\u001b[0m\u001b[0mlist\u001b[0m\u001b[1;33m(\u001b[0m\u001b[0myour_dice\u001b[0m\u001b[1;33m[\u001b[0m\u001b[0mrandom\u001b[0m\u001b[1;33m.\u001b[0m\u001b[0mrandrange\u001b[0m\u001b[1;33m(\u001b[0m\u001b[1;36m0\u001b[0m\u001b[1;33m,\u001b[0m\u001b[0mlen\u001b[0m\u001b[1;33m(\u001b[0m\u001b[0myour_dice\u001b[0m\u001b[1;33m)\u001b[0m\u001b[1;33m)\u001b[0m\u001b[1;33m]\u001b[0m\u001b[1;33m)\u001b[0m\u001b[1;33m\u001b[0m\u001b[1;33m\u001b[0m\u001b[0m\n\u001b[0;32m     13\u001b[0m             \u001b[0mprint\u001b[0m\u001b[1;33m(\u001b[0m\u001b[0myour_choice\u001b[0m\u001b[1;33m)\u001b[0m\u001b[1;33m\u001b[0m\u001b[1;33m\u001b[0m\u001b[0m\n\u001b[1;32m---> 14\u001b[1;33m             \u001b[0mmake_move\u001b[0m\u001b[1;33m(\u001b[0m\u001b[0myour_choice\u001b[0m\u001b[1;33m)\u001b[0m\u001b[1;33m\u001b[0m\u001b[1;33m\u001b[0m\u001b[0m\n\u001b[0m\u001b[0;32m     15\u001b[0m             \u001b[0mpass_turn\u001b[0m\u001b[1;33m(\u001b[0m\u001b[0mactive_player\u001b[0m\u001b[1;33m)\u001b[0m\u001b[1;33m\u001b[0m\u001b[1;33m\u001b[0m\u001b[0m\n\u001b[0;32m     16\u001b[0m             \u001b[1;32mif\u001b[0m \u001b[0mactive_player\u001b[0m\u001b[1;33m==\u001b[0m\u001b[1;36m1\u001b[0m\u001b[1;33m:\u001b[0m\u001b[1;33m\u001b[0m\u001b[1;33m\u001b[0m\u001b[0m\n",
      "\u001b[1;31mNameError\u001b[0m: name 'make_move' is not defined"
     ]
    }
   ],
   "source": [
    "game1=Game_manager()\n",
    "game1.run_game()"
   ]
  },
  {
   "cell_type": "code",
   "execution_count": 41,
   "id": "b994b9e4",
   "metadata": {
    "scrolled": false
   },
   "outputs": [
    {
     "name": "stdout",
     "output_type": "stream",
     "text": [
      "[9, 9]\n",
      "placed marker at column: 9\n",
      "9 {1: 3, 2: 1}\n",
      "9 2\n",
      "advanced marker at column: 9\n",
      "9 {1: 3, 2: 1}\n",
      "9 3\n",
      "player: 2 records their markers positions and passes their turn\n"
     ]
    }
   ],
   "source": [
    "run_game()"
   ]
  },
  {
   "cell_type": "code",
   "execution_count": null,
   "id": "68c9e83a",
   "metadata": {
    "scrolled": true
   },
   "outputs": [],
   "source": [
    "for i in range (1000):\n",
    "    clear_output(wait=True)\n",
    "    print(i)\n"
   ]
  },
  {
   "cell_type": "code",
   "execution_count": null,
   "id": "880343ee",
   "metadata": {},
   "outputs": [],
   "source": [
    "a=board.columns[5].position\n",
    "a"
   ]
  },
  {
   "cell_type": "code",
   "execution_count": null,
   "id": "1486b7bd",
   "metadata": {},
   "outputs": [],
   "source": [
    "board.roll_dice()"
   ]
  },
  {
   "cell_type": "code",
   "execution_count": null,
   "id": "f43ba2b5",
   "metadata": {},
   "outputs": [],
   "source": [
    "your_dice=board.roll_dice()\n",
    "your_choice=your_dice[random.randrange(0,len(your_dice))]"
   ]
  },
  {
   "cell_type": "code",
   "execution_count": null,
   "id": "b91e1e87",
   "metadata": {},
   "outputs": [],
   "source": [
    "your_choice=your_choice-your_choice[0]"
   ]
  }
 ],
 "metadata": {
  "interpreter": {
   "hash": "7e454ac98e5d6f7ce144995d5872cb16b4a2febf903ce63ddae47d35667d42fd"
  },
  "kernelspec": {
   "display_name": "Python 3 (ipykernel)",
   "language": "python",
   "name": "python3"
  },
  "language_info": {
   "codemirror_mode": {
    "name": "ipython",
    "version": 3
   },
   "file_extension": ".py",
   "mimetype": "text/x-python",
   "name": "python",
   "nbconvert_exporter": "python",
   "pygments_lexer": "ipython3",
   "version": "3.9.7"
  }
 },
 "nbformat": 4,
 "nbformat_minor": 5
}
